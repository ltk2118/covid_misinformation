{
  "nbformat": 4,
  "nbformat_minor": 0,
  "metadata": {
    "accelerator": "GPU",
    "colab": {
      "name": "AI Modelshare Competition Code",
      "provenance": [],
      "collapsed_sections": [
        "iRm2NuqZNSQf",
        "XReesVuRNa3h"
      ],
      "machine_shape": "hm",
      "include_colab_link": true
    },
    "kernelspec": {
      "display_name": "Python 3",
      "name": "python3"
    },
    "language_info": {
      "name": "python"
    },
        "a67463ba5ff440c4a05dabefe8351589": {
          "model_module": "@jupyter-widgets/base",
          "model_name": "LayoutModel",
          "model_module_version": "1.2.0",
          "state": {
            "_view_name": "LayoutView",
            "grid_template_rows": null,
            "right": null,
            "justify_content": null,
            "_view_module": "@jupyter-widgets/base",
            "overflow": null,
            "_model_module_version": "1.2.0",
            "_view_count": null,
            "flex_flow": null,
            "width": null,
            "min_width": null,
            "border": null,
            "align_items": null,
            "bottom": null,
            "_model_module": "@jupyter-widgets/base",
            "top": null,
            "grid_column": null,
            "overflow_y": null,
            "overflow_x": null,
            "grid_auto_flow": null,
            "grid_area": null,
            "grid_template_columns": null,
            "flex": null,
            "_model_name": "LayoutModel",
            "justify_items": null,
            "grid_row": null,
            "max_height": null,
            "align_content": null,
            "visibility": null,
            "align_self": null,
            "height": null,
            "min_height": null,
            "padding": null,
            "grid_auto_rows": null,
            "grid_gap": null,
            "max_width": null,
            "order": null,
            "_view_module_version": "1.2.0",
            "grid_template_areas": null,
            "object_position": null,
            "object_fit": null,
            "grid_auto_columns": null,
            "margin": null,
            "display": null,
            "left": null
          }
        },
        "894cc00a1e344995b77c56972a94f3dc": {
          "model_module": "@jupyter-widgets/controls",
          "model_name": "HTMLModel",
          "model_module_version": "1.5.0",
          "state": {
            "_view_name": "HTMLView",
            "style": "IPY_MODEL_3e81c20496d145fca4aeb82a8bc6f1ac",
            "_dom_classes": [],
            "description": "",
            "_model_name": "HTMLModel",
            "placeholder": "​",
            "_view_module": "@jupyter-widgets/controls",
            "_model_module_version": "1.5.0",
            "value": "Downloading: 100%",
            "_view_count": null,
            "_view_module_version": "1.5.0",
            "description_tooltip": null,
            "_model_module": "@jupyter-widgets/controls",
            "layout": "IPY_MODEL_36f4389bafc64de398be76698ebcaefe"
          }
        },
        "9ca5b1f33df94141896c699a7cd18075": {
          "model_module": "@jupyter-widgets/controls",
          "model_name": "FloatProgressModel",
          "model_module_version": "1.5.0",
          "state": {
            "_view_name": "ProgressView",
            "style": "IPY_MODEL_4cc12d2642634b20948beabedd02f26b",
            "_dom_classes": [],
            "description": "",
            "_model_name": "FloatProgressModel",
            "bar_style": "success",
            "max": 231508,
            "_view_module": "@jupyter-widgets/controls",
            "_model_module_version": "1.5.0",
            "value": 231508,
            "_view_count": null,
            "_view_module_version": "1.5.0",
            "orientation": "horizontal",
            "min": 0,
            "description_tooltip": null,
            "_model_module": "@jupyter-widgets/controls",
            "layout": "IPY_MODEL_9ae40b301d0441f8bde84ab6836b2584"
          }
        },
        "e4f71ca6894044aabf69325e72d53e3f": {
          "model_module": "@jupyter-widgets/controls",
          "model_name": "HTMLModel",
          "model_module_version": "1.5.0",
          "state": {
            "_view_name": "HTMLView",
            "style": "IPY_MODEL_93960591d2ab4861b24c48c7c63a5ea9",
            "_dom_classes": [],
            "description": "",
            "_model_name": "HTMLModel",
            "placeholder": "​",
            "_view_module": "@jupyter-widgets/controls",
            "_model_module_version": "1.5.0",
            "value": " 226k/226k [00:00&lt;00:00, 239kB/s]",
            "_view_count": null,
            "_view_module_version": "1.5.0",
            "description_tooltip": null,
            "_model_module": "@jupyter-widgets/controls",
            "layout": "IPY_MODEL_c1132c67fdec45b796cbbe03302ab9f2"
          }
        },
        "3e81c20496d145fca4aeb82a8bc6f1ac": {
          "model_module": "@jupyter-widgets/controls",
          "model_name": "DescriptionStyleModel",
          "model_module_version": "1.5.0",
          "state": {
            "_view_name": "StyleView",
            "_model_name": "DescriptionStyleModel",
            "description_width": "",
            "_view_module": "@jupyter-widgets/base",
            "_model_module_version": "1.5.0",
            "_view_count": null,
            "_view_module_version": "1.2.0",
            "_model_module": "@jupyter-widgets/controls"
          }
        },
        "36f4389bafc64de398be76698ebcaefe": {
          "model_module": "@jupyter-widgets/base",
          "model_name": "LayoutModel",
          "model_module_version": "1.2.0",
          "state": {
            "_view_name": "LayoutView",
            "grid_template_rows": null,
            "right": null,
            "justify_content": null,
            "_view_module": "@jupyter-widgets/base",
            "overflow": null,
            "_model_module_version": "1.2.0",
            "_view_count": null,
            "flex_flow": null,
            "width": null,
            "min_width": null,
            "border": null,
            "align_items": null,
            "bottom": null,
            "_model_module": "@jupyter-widgets/base",
            "top": null,
            "grid_column": null,
            "overflow_y": null,
            "overflow_x": null,
            "grid_auto_flow": null,
            "grid_area": null,
            "grid_template_columns": null,
            "flex": null,
            "_model_name": "LayoutModel",
            "justify_items": null,
            "grid_row": null,
            "max_height": null,
            "align_content": null,
            "visibility": null,
            "align_self": null,
            "height": null,
            "min_height": null,
            "padding": null,
            "grid_auto_rows": null,
            "grid_gap": null,
            "max_width": null,
            "order": null,
            "_view_module_version": "1.2.0",
            "grid_template_areas": null,
            "object_position": null,
            "object_fit": null,
            "grid_auto_columns": null,
            "margin": null,
            "display": null,
            "left": null
          }
        },
        "4cc12d2642634b20948beabedd02f26b": {
          "model_module": "@jupyter-widgets/controls",
          "model_name": "ProgressStyleModel",
          "model_module_version": "1.5.0",
          "state": {
            "_view_name": "StyleView",
            "_model_name": "ProgressStyleModel",
            "description_width": "",
            "_view_module": "@jupyter-widgets/base",
            "_model_module_version": "1.5.0",
            "_view_count": null,
            "_view_module_version": "1.2.0",
            "bar_color": null,
            "_model_module": "@jupyter-widgets/controls"
          }
        },
        "9ae40b301d0441f8bde84ab6836b2584": {
          "model_module": "@jupyter-widgets/base",
          "model_name": "LayoutModel",
          "model_module_version": "1.2.0",
          "state": {
            "_view_name": "LayoutView",
            "grid_template_rows": null,
            "right": null,
            "justify_content": null,
            "_view_module": "@jupyter-widgets/base",
            "overflow": null,
            "_model_module_version": "1.2.0",
            "_view_count": null,
            "flex_flow": null,
            "width": null,
            "min_width": null,
            "border": null,
            "align_items": null,
            "bottom": null,
            "_model_module": "@jupyter-widgets/base",
            "top": null,
            "grid_column": null,
            "overflow_y": null,
            "overflow_x": null,
            "grid_auto_flow": null,
            "grid_area": null,
            "grid_template_columns": null,
            "flex": null,
            "_model_name": "LayoutModel",
            "justify_items": null,
            "grid_row": null,
            "max_height": null,
            "align_content": null,
            "visibility": null,
            "align_self": null,
            "height": null,
            "min_height": null,
            "padding": null,
            "grid_auto_rows": null,
            "grid_gap": null,
            "max_width": null,
            "order": null,
            "_view_module_version": "1.2.0",
            "grid_template_areas": null,
            "object_position": null,
            "object_fit": null,
            "grid_auto_columns": null,
            "margin": null,
            "display": null,
            "left": null
          }
        },
        "93960591d2ab4861b24c48c7c63a5ea9": {
          "model_module": "@jupyter-widgets/controls",
          "model_name": "DescriptionStyleModel",
          "model_module_version": "1.5.0",
          "state": {
            "_view_name": "StyleView",
            "_model_name": "DescriptionStyleModel",
            "description_width": "",
            "_view_module": "@jupyter-widgets/base",
            "_model_module_version": "1.5.0",
            "_view_count": null,
            "_view_module_version": "1.2.0",
            "_model_module": "@jupyter-widgets/controls"
          }
        },
        "c1132c67fdec45b796cbbe03302ab9f2": {
          "model_module": "@jupyter-widgets/base",
          "model_name": "LayoutModel",
          "model_module_version": "1.2.0",
          "state": {
            "_view_name": "LayoutView",
            "grid_template_rows": null,
            "right": null,
            "justify_content": null,
            "_view_module": "@jupyter-widgets/base",
            "overflow": null,
            "_model_module_version": "1.2.0",
            "_view_count": null,
            "flex_flow": null,
            "width": null,
            "min_width": null,
            "border": null,
            "align_items": null,
            "bottom": null,
            "_model_module": "@jupyter-widgets/base",
            "top": null,
            "grid_column": null,
            "overflow_y": null,
            "overflow_x": null,
            "grid_auto_flow": null,
            "grid_area": null,
            "grid_template_columns": null,
            "flex": null,
            "_model_name": "LayoutModel",
            "justify_items": null,
            "grid_row": null,
            "max_height": null,
            "align_content": null,
            "visibility": null,
            "align_self": null,
            "height": null,
            "min_height": null,
            "padding": null,
            "grid_auto_rows": null,
            "grid_gap": null,
            "max_width": null,
            "order": null,
            "_view_module_version": "1.2.0",
            "grid_template_areas": null,
            "object_position": null,
            "object_fit": null,
            "grid_auto_columns": null,
            "margin": null,
            "display": null,
            "left": null
          }
        },
        "f362c9c0275143c9a6457b2cf6f3ded1": {
          "model_module": "@jupyter-widgets/controls",
          "model_name": "HBoxModel",
          "model_module_version": "1.5.0",
          "state": {
            "_view_name": "HBoxView",
            "_dom_classes": [],
            "_model_name": "HBoxModel",
            "_view_module": "@jupyter-widgets/controls",
            "_model_module_version": "1.5.0",
            "_view_count": null,
            "_view_module_version": "1.5.0",
            "box_style": "",
            "layout": "IPY_MODEL_adb5da8a63244d378c05189cd56ca6e8",
            "_model_module": "@jupyter-widgets/controls",
            "children": [
              "IPY_MODEL_0382f753ca41404bad9dc12ff065a189",
              "IPY_MODEL_c86b5c7f6bea46a0bdbebfbe50a36c74",
              "IPY_MODEL_982094c94bec4740b2a9ce2249f87e86"
            ]
          }
        },
        "adb5da8a63244d378c05189cd56ca6e8": {
          "model_module": "@jupyter-widgets/base",
          "model_name": "LayoutModel",
          "model_module_version": "1.2.0",
          "state": {
            "_view_name": "LayoutView",
            "grid_template_rows": null,
            "right": null,
            "justify_content": null,
            "_view_module": "@jupyter-widgets/base",
            "overflow": null,
            "_model_module_version": "1.2.0",
            "_view_count": null,
            "flex_flow": null,
            "width": null,
            "min_width": null,
            "border": null,
            "align_items": null,
            "bottom": null,
            "_model_module": "@jupyter-widgets/base",
            "top": null,
            "grid_column": null,
            "overflow_y": null,
            "overflow_x": null,
            "grid_auto_flow": null,
            "grid_area": null,
            "grid_template_columns": null,
            "flex": null,
            "_model_name": "LayoutModel",
            "justify_items": null,
            "grid_row": null,
            "max_height": null,
            "align_content": null,
            "visibility": null,
            "align_self": null,
            "height": null,
            "min_height": null,
            "padding": null,
            "grid_auto_rows": null,
            "grid_gap": null,
            "max_width": null,
            "order": null,
            "_view_module_version": "1.2.0",
            "grid_template_areas": null,
            "object_position": null,
            "object_fit": null,
            "grid_auto_columns": null,
            "margin": null,
            "display": null,
            "left": null
          }
        },
        "0382f753ca41404bad9dc12ff065a189": {
          "model_module": "@jupyter-widgets/controls",
          "model_name": "HTMLModel",
          "model_module_version": "1.5.0",
          "state": {
            "_view_name": "HTMLView",
            "style": "IPY_MODEL_419c0e023b1444eebda675c8debc7c76",
            "_dom_classes": [],
            "description": "",
            "_model_name": "HTMLModel",
            "placeholder": "​",
            "_view_module": "@jupyter-widgets/controls",
            "_model_module_version": "1.5.0",
            "value": "Downloading: 100%",
            "_view_count": null,
            "_view_module_version": "1.5.0",
            "description_tooltip": null,
            "_model_module": "@jupyter-widgets/controls",
            "layout": "IPY_MODEL_0cc7ca67057d4fe5a380386a2bda4013"
          }
        },
        "c86b5c7f6bea46a0bdbebfbe50a36c74": {
          "model_module": "@jupyter-widgets/controls",
          "model_name": "FloatProgressModel",
          "model_module_version": "1.5.0",
          "state": {
            "_view_name": "ProgressView",
            "style": "IPY_MODEL_7cad35c0c27e491ca1afad54f89df543",
            "_dom_classes": [],
            "description": "",
            "_model_name": "FloatProgressModel",
            "bar_style": "success",
            "max": 28,
            "_view_module": "@jupyter-widgets/controls",
            "_model_module_version": "1.5.0",
            "value": 28,
            "_view_count": null,
            "_view_module_version": "1.5.0",
            "orientation": "horizontal",
            "min": 0,
            "description_tooltip": null,
            "_model_module": "@jupyter-widgets/controls",
            "layout": "IPY_MODEL_104b1514a618427d9629353e4db4a798"
          }
        },
        "982094c94bec4740b2a9ce2249f87e86": {
          "model_module": "@jupyter-widgets/controls",
          "model_name": "HTMLModel",
          "model_module_version": "1.5.0",
          "state": {
            "_view_name": "HTMLView",
            "style": "IPY_MODEL_bd3180a790504756877b533617a361e4",
            "_dom_classes": [],
            "description": "",
            "_model_name": "HTMLModel",
            "placeholder": "​",
            "_view_module": "@jupyter-widgets/controls",
            "_model_module_version": "1.5.0",
            "value": " 28.0/28.0 [00:00&lt;00:00, 855B/s]",
            "_view_count": null,
            "_view_module_version": "1.5.0",
            "description_tooltip": null,
            "_model_module": "@jupyter-widgets/controls",
            "layout": "IPY_MODEL_1c3160f34b65400aa489b9827e84ccd3"
          }
        },
        "419c0e023b1444eebda675c8debc7c76": {
          "model_module": "@jupyter-widgets/controls",
          "model_name": "DescriptionStyleModel",
          "model_module_version": "1.5.0",
          "state": {
            "_view_name": "StyleView",
            "_model_name": "DescriptionStyleModel",
            "description_width": "",
            "_view_module": "@jupyter-widgets/base",
            "_model_module_version": "1.5.0",
            "_view_count": null,
            "_view_module_version": "1.2.0",
            "_model_module": "@jupyter-widgets/controls"
          }
        },
        "0cc7ca67057d4fe5a380386a2bda4013": {
          "model_module": "@jupyter-widgets/base",
          "model_name": "LayoutModel",
          "model_module_version": "1.2.0",
          "state": {
            "_view_name": "LayoutView",
            "grid_template_rows": null,
            "right": null,
            "justify_content": null,
            "_view_module": "@jupyter-widgets/base",
            "overflow": null,
            "_model_module_version": "1.2.0",
            "_view_count": null,
            "flex_flow": null,
            "width": null,
            "min_width": null,
            "border": null,
            "align_items": null,
            "bottom": null,
            "_model_module": "@jupyter-widgets/base",
            "top": null,
            "grid_column": null,
            "overflow_y": null,
            "overflow_x": null,
            "grid_auto_flow": null,
            "grid_area": null,
            "grid_template_columns": null,
            "flex": null,
            "_model_name": "LayoutModel",
            "justify_items": null,
            "grid_row": null,
            "max_height": null,
            "align_content": null,
            "visibility": null,
            "align_self": null,
            "height": null,
            "min_height": null,
            "padding": null,
            "grid_auto_rows": null,
            "grid_gap": null,
            "max_width": null,
            "order": null,
            "_view_module_version": "1.2.0",
            "grid_template_areas": null,
            "object_position": null,
            "object_fit": null,
            "grid_auto_columns": null,
            "margin": null,
            "display": null,
            "left": null
          }
        },
        "7cad35c0c27e491ca1afad54f89df543": {
          "model_module": "@jupyter-widgets/controls",
          "model_name": "ProgressStyleModel",
          "model_module_version": "1.5.0",
          "state": {
            "_view_name": "StyleView",
            "_model_name": "ProgressStyleModel",
            "description_width": "",
            "_view_module": "@jupyter-widgets/base",
            "_model_module_version": "1.5.0",
            "_view_count": null,
            "_view_module_version": "1.2.0",
            "bar_color": null,
            "_model_module": "@jupyter-widgets/controls"
          }
        },
        "104b1514a618427d9629353e4db4a798": {
          "model_module": "@jupyter-widgets/base",
          "model_name": "LayoutModel",
          "model_module_version": "1.2.0",
          "state": {
            "_view_name": "LayoutView",
            "grid_template_rows": null,
            "right": null,
            "justify_content": null,
            "_view_module": "@jupyter-widgets/base",
            "overflow": null,
            "_model_module_version": "1.2.0",
            "_view_count": null,
            "flex_flow": null,
            "width": null,
            "min_width": null,
            "border": null,
            "align_items": null,
            "bottom": null,
            "_model_module": "@jupyter-widgets/base",
            "top": null,
            "grid_column": null,
            "overflow_y": null,
            "overflow_x": null,
            "grid_auto_flow": null,
            "grid_area": null,
            "grid_template_columns": null,
            "flex": null,
            "_model_name": "LayoutModel",
            "justify_items": null,
            "grid_row": null,
            "max_height": null,
            "align_content": null,
            "visibility": null,
            "align_self": null,
            "height": null,
            "min_height": null,
            "padding": null,
            "grid_auto_rows": null,
            "grid_gap": null,
            "max_width": null,
            "order": null,
            "_view_module_version": "1.2.0",
            "grid_template_areas": null,
            "object_position": null,
            "object_fit": null,
            "grid_auto_columns": null,
            "margin": null,
            "display": null,
            "left": null
          }
        },
        "bd3180a790504756877b533617a361e4": {
          "model_module": "@jupyter-widgets/controls",
          "model_name": "DescriptionStyleModel",
          "model_module_version": "1.5.0",
          "state": {
            "_view_name": "StyleView",
            "_model_name": "DescriptionStyleModel",
            "description_width": "",
            "_view_module": "@jupyter-widgets/base",
            "_model_module_version": "1.5.0",
            "_view_count": null,
            "_view_module_version": "1.2.0",
            "_model_module": "@jupyter-widgets/controls"
          }
        },
        "1c3160f34b65400aa489b9827e84ccd3": {
          "model_module": "@jupyter-widgets/base",
          "model_name": "LayoutModel",
          "model_module_version": "1.2.0",
          "state": {
            "_view_name": "LayoutView",
            "grid_template_rows": null,
            "right": null,
            "justify_content": null,
            "_view_module": "@jupyter-widgets/base",
            "overflow": null,
            "_model_module_version": "1.2.0",
            "_view_count": null,
            "flex_flow": null,
            "width": null,
            "min_width": null,
            "border": null,
            "align_items": null,
            "bottom": null,
            "_model_module": "@jupyter-widgets/base",
            "top": null,
            "grid_column": null,
            "overflow_y": null,
            "overflow_x": null,
            "grid_auto_flow": null,
            "grid_area": null,
            "grid_template_columns": null,
            "flex": null,
            "_model_name": "LayoutModel",
            "justify_items": null,
            "grid_row": null,
            "max_height": null,
            "align_content": null,
            "visibility": null,
            "align_self": null,
            "height": null,
            "min_height": null,
            "padding": null,
            "grid_auto_rows": null,
            "grid_gap": null,
            "max_width": null,
            "order": null,
            "_view_module_version": "1.2.0",
            "grid_template_areas": null,
            "object_position": null,
            "object_fit": null,
            "grid_auto_columns": null,
            "margin": null,
            "display": null,
            "left": null
          }
        },
        "d30fa0f1e4394273b44c5172fa6fff37": {
          "model_module": "@jupyter-widgets/controls",
          "model_name": "HBoxModel",
          "model_module_version": "1.5.0",
          "state": {
            "_view_name": "HBoxView",
            "_dom_classes": [],
            "_model_name": "HBoxModel",
            "_view_module": "@jupyter-widgets/controls",
            "_model_module_version": "1.5.0",
            "_view_count": null,
            "_view_module_version": "1.5.0",
            "box_style": "",
            "layout": "IPY_MODEL_5a62c9ed8ae44de29de7de6a3e91fb66",
            "_model_module": "@jupyter-widgets/controls",
            "children": [
              "IPY_MODEL_8d946c1acdf344e2991de7a6bd0b0255",
              "IPY_MODEL_58d9e15bb9b34be68c0e12cc29313a9a",
              "IPY_MODEL_7f2d71d9406e4490a7d1d3a3e1f101cb"
            ]
          }
        },
        "5a62c9ed8ae44de29de7de6a3e91fb66": {
          "model_module": "@jupyter-widgets/base",
          "model_name": "LayoutModel",
          "model_module_version": "1.2.0",
          "state": {
            "_view_name": "LayoutView",
            "grid_template_rows": null,
            "right": null,
            "justify_content": null,
            "_view_module": "@jupyter-widgets/base",
            "overflow": null,
            "_model_module_version": "1.2.0",
            "_view_count": null,
            "flex_flow": null,
            "width": null,
            "min_width": null,
            "border": null,
            "align_items": null,
            "bottom": null,
            "_model_module": "@jupyter-widgets/base",
            "top": null,
            "grid_column": null,
            "overflow_y": null,
            "overflow_x": null,
            "grid_auto_flow": null,
            "grid_area": null,
            "grid_template_columns": null,
            "flex": null,
            "_model_name": "LayoutModel",
            "justify_items": null,
            "grid_row": null,
            "max_height": null,
            "align_content": null,
            "visibility": null,
            "align_self": null,
            "height": null,
            "min_height": null,
            "padding": null,
            "grid_auto_rows": null,
            "grid_gap": null,
            "max_width": null,
            "order": null,
            "_view_module_version": "1.2.0",
            "grid_template_areas": null,
            "object_position": null,
            "object_fit": null,
            "grid_auto_columns": null,
            "margin": null,
            "display": null,
            "left": null
          }
        },
        "8d946c1acdf344e2991de7a6bd0b0255": {
          "model_module": "@jupyter-widgets/controls",
          "model_name": "HTMLModel",
          "model_module_version": "1.5.0",
          "state": {
            "_view_name": "HTMLView",
            "style": "IPY_MODEL_10da977e3b1c42c0b22945b857abd9e9",
            "_dom_classes": [],
            "description": "",
            "_model_name": "HTMLModel",
            "placeholder": "​",
            "_view_module": "@jupyter-widgets/controls",
            "_model_module_version": "1.5.0",
            "value": "Downloading: 100%",
            "_view_count": null,
            "_view_module_version": "1.5.0",
            "description_tooltip": null,
            "_model_module": "@jupyter-widgets/controls",
            "layout": "IPY_MODEL_a3d969cf76dc4a26a86e2b602c4d4ef5"
          }
        },
        "58d9e15bb9b34be68c0e12cc29313a9a": {
          "model_module": "@jupyter-widgets/controls",
          "model_name": "FloatProgressModel",
          "model_module_version": "1.5.0",
          "state": {
            "_view_name": "ProgressView",
            "style": "IPY_MODEL_c2a307c0c35c446d89d92eb23803a9da",
            "_dom_classes": [],
            "description": "",
            "_model_name": "FloatProgressModel",
            "bar_style": "success",
            "max": 466062,
            "_view_module": "@jupyter-widgets/controls",
            "_model_module_version": "1.5.0",
            "value": 466062,
            "_view_count": null,
            "_view_module_version": "1.5.0",
            "orientation": "horizontal",
            "min": 0,
            "description_tooltip": null,
            "_model_module": "@jupyter-widgets/controls",
            "layout": "IPY_MODEL_120deb34d8a04f82a1908a5a41f3206b"
          }
        },
        "7f2d71d9406e4490a7d1d3a3e1f101cb": {
          "model_module": "@jupyter-widgets/controls",
          "model_name": "HTMLModel",
          "model_module_version": "1.5.0",
          "state": {
            "_view_name": "HTMLView",
            "style": "IPY_MODEL_49d464ef16eb4d0c80ff3ec837cf61f2",
            "_dom_classes": [],
            "description": "",
            "_model_name": "HTMLModel",
            "placeholder": "​",
            "_view_module": "@jupyter-widgets/controls",
            "_model_module_version": "1.5.0",
            "value": " 455k/455k [00:00&lt;00:00, 565kB/s]",
            "_view_count": null,
            "_view_module_version": "1.5.0",
            "description_tooltip": null,
            "_model_module": "@jupyter-widgets/controls",
            "layout": "IPY_MODEL_ddaa5815b9e541a696358f8e24cee348"
          }
        },
        "10da977e3b1c42c0b22945b857abd9e9": {
          "model_module": "@jupyter-widgets/controls",
          "model_name": "DescriptionStyleModel",
          "model_module_version": "1.5.0",
          "state": {
            "_view_name": "StyleView",
            "_model_name": "DescriptionStyleModel",
            "description_width": "",
            "_view_module": "@jupyter-widgets/base",
            "_model_module_version": "1.5.0",
            "_view_count": null,
            "_view_module_version": "1.2.0",
            "_model_module": "@jupyter-widgets/controls"
          }
        },
        "a3d969cf76dc4a26a86e2b602c4d4ef5": {
          "model_module": "@jupyter-widgets/base",
          "model_name": "LayoutModel",
          "model_module_version": "1.2.0",
          "state": {
            "_view_name": "LayoutView",
            "grid_template_rows": null,
            "right": null,
            "justify_content": null,
            "_view_module": "@jupyter-widgets/base",
            "overflow": null,
            "_model_module_version": "1.2.0",
            "_view_count": null,
            "flex_flow": null,
            "width": null,
            "min_width": null,
            "border": null,
            "align_items": null,
            "bottom": null,
            "_model_module": "@jupyter-widgets/base",
            "top": null,
            "grid_column": null,
            "overflow_y": null,
            "overflow_x": null,
            "grid_auto_flow": null,
            "grid_area": null,
            "grid_template_columns": null,
            "flex": null,
            "_model_name": "LayoutModel",
            "justify_items": null,
            "grid_row": null,
            "max_height": null,
            "align_content": null,
            "visibility": null,
            "align_self": null,
            "height": null,
            "min_height": null,
            "padding": null,
            "grid_auto_rows": null,
            "grid_gap": null,
            "max_width": null,
            "order": null,
            "_view_module_version": "1.2.0",
            "grid_template_areas": null,
            "object_position": null,
            "object_fit": null,
            "grid_auto_columns": null,
            "margin": null,
            "display": null,
            "left": null
          }
        },
        "c2a307c0c35c446d89d92eb23803a9da": {
          "model_module": "@jupyter-widgets/controls",
          "model_name": "ProgressStyleModel",
          "model_module_version": "1.5.0",
          "state": {
            "_view_name": "StyleView",
            "_model_name": "ProgressStyleModel",
            "description_width": "",
            "_view_module": "@jupyter-widgets/base",
            "_model_module_version": "1.5.0",
            "_view_count": null,
            "_view_module_version": "1.2.0",
            "bar_color": null,
            "_model_module": "@jupyter-widgets/controls"
          }
        },
        "120deb34d8a04f82a1908a5a41f3206b": {
          "model_module": "@jupyter-widgets/base",
          "model_name": "LayoutModel",
          "model_module_version": "1.2.0",
          "state": {
            "_view_name": "LayoutView",
            "grid_template_rows": null,
            "right": null,
            "justify_content": null,
            "_view_module": "@jupyter-widgets/base",
            "overflow": null,
            "_model_module_version": "1.2.0",
            "_view_count": null,
            "flex_flow": null,
            "width": null,
            "min_width": null,
            "border": null,
            "align_items": null,
            "bottom": null,
            "_model_module": "@jupyter-widgets/base",
            "top": null,
            "grid_column": null,
            "overflow_y": null,
            "overflow_x": null,
            "grid_auto_flow": null,
            "grid_area": null,
            "grid_template_columns": null,
            "flex": null,
            "_model_name": "LayoutModel",
            "justify_items": null,
            "grid_row": null,
            "max_height": null,
            "align_content": null,
            "visibility": null,
            "align_self": null,
            "height": null,
            "min_height": null,
            "padding": null,
            "grid_auto_rows": null,
            "grid_gap": null,
            "max_width": null,
            "order": null,
            "_view_module_version": "1.2.0",
            "grid_template_areas": null,
            "object_position": null,
            "object_fit": null,
            "grid_auto_columns": null,
            "margin": null,
            "display": null,
            "left": null
          }
        },
        "49d464ef16eb4d0c80ff3ec837cf61f2": {
          "model_module": "@jupyter-widgets/controls",
          "model_name": "DescriptionStyleModel",
          "model_module_version": "1.5.0",
          "state": {
            "_view_name": "StyleView",
            "_model_name": "DescriptionStyleModel",
            "description_width": "",
            "_view_module": "@jupyter-widgets/base",
            "_model_module_version": "1.5.0",
            "_view_count": null,
            "_view_module_version": "1.2.0",
            "_model_module": "@jupyter-widgets/controls"
          }
        },
        "ddaa5815b9e541a696358f8e24cee348": {
          "model_module": "@jupyter-widgets/base",
          "model_name": "LayoutModel",
          "model_module_version": "1.2.0",
          "state": {
            "_view_name": "LayoutView",
            "grid_template_rows": null,
            "right": null,
            "justify_content": null,
            "_view_module": "@jupyter-widgets/base",
            "overflow": null,
            "_model_module_version": "1.2.0",
            "_view_count": null,
            "flex_flow": null,
            "width": null,
            "min_width": null,
            "border": null,
            "align_items": null,
            "bottom": null,
            "_model_module": "@jupyter-widgets/base",
            "top": null,
            "grid_column": null,
            "overflow_y": null,
            "overflow_x": null,
            "grid_auto_flow": null,
            "grid_area": null,
            "grid_template_columns": null,
            "flex": null,
            "_model_name": "LayoutModel",
            "justify_items": null,
            "grid_row": null,
            "max_height": null,
            "align_content": null,
            "visibility": null,
            "align_self": null,
            "height": null,
            "min_height": null,
            "padding": null,
            "grid_auto_rows": null,
            "grid_gap": null,
            "max_width": null,
            "order": null,
            "_view_module_version": "1.2.0",
            "grid_template_areas": null,
            "object_position": null,
            "object_fit": null,
            "grid_auto_columns": null,
            "margin": null,
            "display": null,
            "left": null
          }
        },
        "4dd5edc088e846189daf819a00596372": {
          "model_module": "@jupyter-widgets/controls",
          "model_name": "HBoxModel",
          "model_module_version": "1.5.0",
          "state": {
            "_view_name": "HBoxView",
            "_dom_classes": [],
            "_model_name": "HBoxModel",
            "_view_module": "@jupyter-widgets/controls",
            "_model_module_version": "1.5.0",
            "_view_count": null,
            "_view_module_version": "1.5.0",
            "box_style": "",
            "layout": "IPY_MODEL_fbac38fc4a7c45fe9b295c38c3f2aee6",
            "_model_module": "@jupyter-widgets/controls",
            "children": [
              "IPY_MODEL_4cd4f33af0bd456fb652c2587a40b113",
              "IPY_MODEL_fa70061c048c47059f0bb10da1aabea2",
              "IPY_MODEL_231a9cc801ad49698d2a3021bb4c8568"
            ]
          }
        },
        "fbac38fc4a7c45fe9b295c38c3f2aee6": {
          "model_module": "@jupyter-widgets/base",
          "model_name": "LayoutModel",
          "model_module_version": "1.2.0",
          "state": {
            "_view_name": "LayoutView",
            "grid_template_rows": null,
            "right": null,
            "justify_content": null,
            "_view_module": "@jupyter-widgets/base",
            "overflow": null,
            "_model_module_version": "1.2.0",
            "_view_count": null,
            "flex_flow": null,
            "width": null,
            "min_width": null,
            "border": null,
            "align_items": null,
            "bottom": null,
            "_model_module": "@jupyter-widgets/base",
            "top": null,
            "grid_column": null,
            "overflow_y": null,
            "overflow_x": null,
            "grid_auto_flow": null,
            "grid_area": null,
            "grid_template_columns": null,
            "flex": null,
            "_model_name": "LayoutModel",
            "justify_items": null,
            "grid_row": null,
            "max_height": null,
            "align_content": null,
            "visibility": null,
            "align_self": null,
            "height": null,
            "min_height": null,
            "padding": null,
            "grid_auto_rows": null,
            "grid_gap": null,
            "max_width": null,
            "order": null,
            "_view_module_version": "1.2.0",
            "grid_template_areas": null,
            "object_position": null,
            "object_fit": null,
            "grid_auto_columns": null,
            "margin": null,
            "display": null,
            "left": null
          }
        },
        "4cd4f33af0bd456fb652c2587a40b113": {
          "model_module": "@jupyter-widgets/controls",
          "model_name": "HTMLModel",
          "model_module_version": "1.5.0",
          "state": {
            "_view_name": "HTMLView",
            "style": "IPY_MODEL_0e951585e30b4ce6ad689650d321f189",
            "_dom_classes": [],
            "description": "",
            "_model_name": "HTMLModel",
            "placeholder": "​",
            "_view_module": "@jupyter-widgets/controls",
            "_model_module_version": "1.5.0",
            "value": "Downloading: 100%",
            "_view_count": null,
            "_view_module_version": "1.5.0",
            "description_tooltip": null,
            "_model_module": "@jupyter-widgets/controls",
            "layout": "IPY_MODEL_65e1c8d65522487ca98bef3f14fb790d"
          }
        },
        "fa70061c048c47059f0bb10da1aabea2": {
          "model_module": "@jupyter-widgets/controls",
          "model_name": "FloatProgressModel",
          "model_module_version": "1.5.0",
          "state": {
            "_view_name": "ProgressView",
            "style": "IPY_MODEL_2f4605dd95f44fcead63f86ef4f28e1c",
            "_dom_classes": [],
            "description": "",
            "_model_name": "FloatProgressModel",
            "bar_style": "success",
            "max": 571,
            "_view_module": "@jupyter-widgets/controls",
            "_model_module_version": "1.5.0",
            "value": 571,
            "_view_count": null,
            "_view_module_version": "1.5.0",
            "orientation": "horizontal",
            "min": 0,
            "description_tooltip": null,
            "_model_module": "@jupyter-widgets/controls",
            "layout": "IPY_MODEL_17b6abb2c6964cfe8b4004c788e4cba4"
          }
        },
        "231a9cc801ad49698d2a3021bb4c8568": {
          "model_module": "@jupyter-widgets/controls",
          "model_name": "HTMLModel",
          "model_module_version": "1.5.0",
          "state": {
            "_view_name": "HTMLView",
            "style": "IPY_MODEL_3239652ec85e4442bfe1d26b0d197323",
            "_dom_classes": [],
            "description": "",
            "_model_name": "HTMLModel",
            "placeholder": "​",
            "_view_module": "@jupyter-widgets/controls",
            "_model_module_version": "1.5.0",
            "value": " 571/571 [00:00&lt;00:00, 12.9kB/s]",
            "_view_count": null,
            "_view_module_version": "1.5.0",
            "description_tooltip": null,
            "_model_module": "@jupyter-widgets/controls",
            "layout": "IPY_MODEL_3b5906ce545a49af865f7fc9f46dd74e"
          }
        },
        "0e951585e30b4ce6ad689650d321f189": {
          "model_module": "@jupyter-widgets/controls",
          "model_name": "DescriptionStyleModel",
          "model_module_version": "1.5.0",
          "state": {
            "_view_name": "StyleView",
            "_model_name": "DescriptionStyleModel",
            "description_width": "",
            "_view_module": "@jupyter-widgets/base",
            "_model_module_version": "1.5.0",
            "_view_count": null,
            "_view_module_version": "1.2.0",
            "_model_module": "@jupyter-widgets/controls"
          }
        },
        "65e1c8d65522487ca98bef3f14fb790d": {
          "model_module": "@jupyter-widgets/base",
          "model_name": "LayoutModel",
          "model_module_version": "1.2.0",
          "state": {
            "_view_name": "LayoutView",
            "grid_template_rows": null,
            "right": null,
            "justify_content": null,
            "_view_module": "@jupyter-widgets/base",
            "overflow": null,
            "_model_module_version": "1.2.0",
            "_view_count": null,
            "flex_flow": null,
            "width": null,
            "min_width": null,
            "border": null,
            "align_items": null,
            "bottom": null,
            "_model_module": "@jupyter-widgets/base",
            "top": null,
            "grid_column": null,
            "overflow_y": null,
            "overflow_x": null,
            "grid_auto_flow": null,
            "grid_area": null,
            "grid_template_columns": null,
            "flex": null,
            "_model_name": "LayoutModel",
            "justify_items": null,
            "grid_row": null,
            "max_height": null,
            "align_content": null,
            "visibility": null,
            "align_self": null,
            "height": null,
            "min_height": null,
            "padding": null,
            "grid_auto_rows": null,
            "grid_gap": null,
            "max_width": null,
            "order": null,
            "_view_module_version": "1.2.0",
            "grid_template_areas": null,
            "object_position": null,
            "object_fit": null,
            "grid_auto_columns": null,
            "margin": null,
            "display": null,
            "left": null
          }
        },
        "2f4605dd95f44fcead63f86ef4f28e1c": {
          "model_module": "@jupyter-widgets/controls",
          "model_name": "ProgressStyleModel",
          "model_module_version": "1.5.0",
          "state": {
            "_view_name": "StyleView",
            "_model_name": "ProgressStyleModel",
            "description_width": "",
            "_view_module": "@jupyter-widgets/base",
            "_model_module_version": "1.5.0",
            "_view_count": null,
            "_view_module_version": "1.2.0",
            "bar_color": null,
            "_model_module": "@jupyter-widgets/controls"
          }
        },
        "17b6abb2c6964cfe8b4004c788e4cba4": {
          "model_module": "@jupyter-widgets/base",
          "model_name": "LayoutModel",
          "model_module_version": "1.2.0",
          "state": {
            "_view_name": "LayoutView",
            "grid_template_rows": null,
            "right": null,
            "justify_content": null,
            "_view_module": "@jupyter-widgets/base",
            "overflow": null,
            "_model_module_version": "1.2.0",
            "_view_count": null,
            "flex_flow": null,
            "width": null,
            "min_width": null,
            "border": null,
            "align_items": null,
            "bottom": null,
            "_model_module": "@jupyter-widgets/base",
            "top": null,
            "grid_column": null,
            "overflow_y": null,
            "overflow_x": null,
            "grid_auto_flow": null,
            "grid_area": null,
            "grid_template_columns": null,
            "flex": null,
            "_model_name": "LayoutModel",
            "justify_items": null,
            "grid_row": null,
            "max_height": null,
            "align_content": null,
            "visibility": null,
            "align_self": null,
            "height": null,
            "min_height": null,
            "padding": null,
            "grid_auto_rows": null,
            "grid_gap": null,
            "max_width": null,
            "order": null,
            "_view_module_version": "1.2.0",
            "grid_template_areas": null,
            "object_position": null,
            "object_fit": null,
            "grid_auto_columns": null,
            "margin": null,
            "display": null,
            "left": null
          }
        },
        "3239652ec85e4442bfe1d26b0d197323": {
          "model_module": "@jupyter-widgets/controls",
          "model_name": "DescriptionStyleModel",
          "model_module_version": "1.5.0",
          "state": {
            "_view_name": "StyleView",
            "_model_name": "DescriptionStyleModel",
            "description_width": "",
            "_view_module": "@jupyter-widgets/base",
            "_model_module_version": "1.5.0",
            "_view_count": null,
            "_view_module_version": "1.2.0",
            "_model_module": "@jupyter-widgets/controls"
          }
        },
        "3b5906ce545a49af865f7fc9f46dd74e": {
          "model_module": "@jupyter-widgets/base",
          "model_name": "LayoutModel",
          "model_module_version": "1.2.0",
          "state": {
            "_view_name": "LayoutView",
            "grid_template_rows": null,
            "right": null,
            "justify_content": null,
            "_view_module": "@jupyter-widgets/base",
            "overflow": null,
            "_model_module_version": "1.2.0",
            "_view_count": null,
            "flex_flow": null,
            "width": null,
            "min_width": null,
            "border": null,
            "align_items": null,
            "bottom": null,
            "_model_module": "@jupyter-widgets/base",
            "top": null,
            "grid_column": null,
            "overflow_y": null,
            "overflow_x": null,
            "grid_auto_flow": null,
            "grid_area": null,
            "grid_template_columns": null,
            "flex": null,
            "_model_name": "LayoutModel",
            "justify_items": null,
            "grid_row": null,
            "max_height": null,
            "align_content": null,
            "visibility": null,
            "align_self": null,
            "height": null,
            "min_height": null,
            "padding": null,
            "grid_auto_rows": null,
            "grid_gap": null,
            "max_width": null,
            "order": null,
            "_view_module_version": "1.2.0",
            "grid_template_areas": null,
            "object_position": null,
            "object_fit": null,
            "grid_auto_columns": null,
            "margin": null,
            "display": null,
            "left": null
          }
        }
      }
    }
  },
  "cells": [
    {
      "cell_type": "markdown",
      "metadata": {
        "id": "view-in-github",
        "colab_type": "text"
      },
      "source": [
        "<a href=\"https://colab.research.google.com/github/ltk2118/covid_misinformation/blob/main/AI_Modelshare_Competition_Code.ipynb\" target=\"_parent\"><img src=\"https://colab.research.google.com/assets/colab-badge.svg\" alt=\"Open In Colab\"/></a>"
      ]
    },
    {
      "cell_type": "markdown",
      "metadata": {
        "id": "tuSXEuuYUdVC"
      },
      "source": [
        "# **COVID Misinformation AI Modelshare Competition**\n",
        "\n",
        "This model playground can be used to generate predictions for Covid related text. When the text indicates Covid misinformation the model powering the web-dashboard and prediction REST api returns \"fake\" when the text indicates real Covid related information the model returns \"real\".\n",
        "\n",
        "https://www.modelshare.org/detail/model:804#"
      ]
    },
    {
      "cell_type": "markdown",
      "metadata": {
        "id": "iRm2NuqZNSQf"
      },
      "source": [
        "## Connect to GPU/TPU"
      ]
    },
    {
      "cell_type": "code",
      "metadata": {
        "colab": {
          "base_uri": "https://localhost:8080/"
        },
        "id": "3OPa28MWwnX0",
        "outputId": "2956c1d5-1047-43aa-ebe8-408529e2e185"
      },
      "source": [
        "gpu_info = !nvidia-smi\n",
        "gpu_info = '\\n'.join(gpu_info)\n",
        "if gpu_info.find('failed') >= 0:\n",
        "  print('Not connected to a GPU')\n",
        "else:\n",
        "  print(gpu_info)"
      ],
      "execution_count": null,
      "outputs": [
        {
          "output_type": "stream",
          "name": "stdout",
          "text": [
            "Wed Dec  1 00:25:39 2021       \n",
            "+-----------------------------------------------------------------------------+\n",
            "| NVIDIA-SMI 495.44       Driver Version: 460.32.03    CUDA Version: 11.2     |\n",
            "|-------------------------------+----------------------+----------------------+\n",
            "| GPU  Name        Persistence-M| Bus-Id        Disp.A | Volatile Uncorr. ECC |\n",
            "| Fan  Temp  Perf  Pwr:Usage/Cap|         Memory-Usage | GPU-Util  Compute M. |\n",
            "|                               |                      |               MIG M. |\n",
            "|===============================+======================+======================|\n",
            "|   0  Tesla P100-PCIE...  Off  | 00000000:00:04.0 Off |                    0 |\n",
            "| N/A   32C    P0    25W / 250W |      0MiB / 16280MiB |      0%      Default |\n",
            "|                               |                      |                  N/A |\n",
            "+-------------------------------+----------------------+----------------------+\n",
            "                                                                               \n",
            "+-----------------------------------------------------------------------------+\n",
            "| Processes:                                                                  |\n",
            "|  GPU   GI   CI        PID   Type   Process name                  GPU Memory |\n",
            "|        ID   ID                                                   Usage      |\n",
            "|=============================================================================|\n",
            "|  No running processes found                                                 |\n",
            "+-----------------------------------------------------------------------------+\n"
          ]
        }
      ]
    },
    {
      "cell_type": "code",
      "metadata": {
        "colab": {
          "base_uri": "https://localhost:8080/"
        },
        "id": "2n2Cg99Bo8rv",
        "outputId": "dec05fc4-e3e7-4e25-e61d-9cd1bb5a877a"
      },
      "source": [
        "#install aimodelshare library\n",
        "! pip install aimodelshare --upgrade\n",
        "! pip install transformers"
      ],
      "execution_count": null,
      "outputs": [
        {
          "output_type": "stream",
          "name": "stdout",
          "text": [
            "Requirement already satisfied: aimodelshare in /usr/local/lib/python3.7/dist-packages (0.0.49)\n",
            "Requirement already satisfied: onnxruntime>=1.7.0 in /usr/local/lib/python3.7/dist-packages (from aimodelshare) (1.9.0)\n",
            "Requirement already satisfied: onnxmltools>=1.6.1 in /usr/local/lib/python3.7/dist-packages (from aimodelshare) (1.10.0)\n",
            "Requirement already satisfied: astunparse==1.6.3 in /usr/local/lib/python3.7/dist-packages (from aimodelshare) (1.6.3)\n",
            "Requirement already satisfied: onnxconverter-common>=1.7.0 in /usr/local/lib/python3.7/dist-packages (from aimodelshare) (1.8.1)\n",
            "Requirement already satisfied: PyJWT==2.2.0 in /usr/local/lib/python3.7/dist-packages (from aimodelshare) (2.2.0)\n",
            "Requirement already satisfied: urllib3==1.25.11 in /usr/local/lib/python3.7/dist-packages (from aimodelshare) (1.25.11)\n",
            "Requirement already satisfied: tf2onnx in /usr/local/lib/python3.7/dist-packages (from aimodelshare) (1.9.3)\n",
            "Requirement already satisfied: scikit-learn==0.24.2 in /usr/local/lib/python3.7/dist-packages (from aimodelshare) (0.24.2)\n",
            "Requirement already satisfied: Pympler==0.9 in /usr/local/lib/python3.7/dist-packages (from aimodelshare) (0.9)\n",
            "Requirement already satisfied: wget==3.2 in /usr/local/lib/python3.7/dist-packages (from aimodelshare) (3.2)\n",
            "Requirement already satisfied: boto3==1.18.2 in /usr/local/lib/python3.7/dist-packages (from aimodelshare) (1.18.2)\n",
            "Requirement already satisfied: docker==5.0.0 in /usr/local/lib/python3.7/dist-packages (from aimodelshare) (5.0.0)\n",
            "Requirement already satisfied: tensorflow>=2.5.0 in /usr/local/lib/python3.7/dist-packages (from aimodelshare) (2.7.0)\n",
            "Requirement already satisfied: seaborn>=0.11.2 in /usr/local/lib/python3.7/dist-packages (from aimodelshare) (0.11.2)\n",
            "Requirement already satisfied: keras2onnx>=1.7.0 in /usr/local/lib/python3.7/dist-packages (from aimodelshare) (1.7.0)\n",
            "Requirement already satisfied: onnx>=1.9.0 in /usr/local/lib/python3.7/dist-packages (from aimodelshare) (1.10.2)\n",
            "Requirement already satisfied: torch>=1.8.1 in /usr/local/lib/python3.7/dist-packages (from aimodelshare) (1.10.0+cu111)\n",
            "Requirement already satisfied: skl2onnx>=1.8.0 in /usr/local/lib/python3.7/dist-packages (from aimodelshare) (1.10.3)\n",
            "Requirement already satisfied: botocore==1.21.2 in /usr/local/lib/python3.7/dist-packages (from aimodelshare) (1.21.2)\n",
            "Requirement already satisfied: xgboost>=0.90 in /usr/local/lib/python3.7/dist-packages (from aimodelshare) (0.90)\n",
            "Requirement already satisfied: wheel<1.0,>=0.23.0 in /usr/local/lib/python3.7/dist-packages (from astunparse==1.6.3->aimodelshare) (0.37.0)\n",
            "Requirement already satisfied: six<2.0,>=1.6.1 in /usr/local/lib/python3.7/dist-packages (from astunparse==1.6.3->aimodelshare) (1.15.0)\n",
            "Requirement already satisfied: jmespath<1.0.0,>=0.7.1 in /usr/local/lib/python3.7/dist-packages (from boto3==1.18.2->aimodelshare) (0.10.0)\n",
            "Requirement already satisfied: s3transfer<0.6.0,>=0.5.0 in /usr/local/lib/python3.7/dist-packages (from boto3==1.18.2->aimodelshare) (0.5.0)\n",
            "Requirement already satisfied: python-dateutil<3.0.0,>=2.1 in /usr/local/lib/python3.7/dist-packages (from botocore==1.21.2->aimodelshare) (2.8.2)\n",
            "Requirement already satisfied: websocket-client>=0.32.0 in /usr/local/lib/python3.7/dist-packages (from docker==5.0.0->aimodelshare) (1.2.1)\n",
            "Requirement already satisfied: requests!=2.18.0,>=2.14.2 in /usr/local/lib/python3.7/dist-packages (from docker==5.0.0->aimodelshare) (2.23.0)\n",
            "Requirement already satisfied: joblib>=0.11 in /usr/local/lib/python3.7/dist-packages (from scikit-learn==0.24.2->aimodelshare) (1.1.0)\n",
            "Requirement already satisfied: numpy>=1.13.3 in /usr/local/lib/python3.7/dist-packages (from scikit-learn==0.24.2->aimodelshare) (1.19.5)\n",
            "Requirement already satisfied: scipy>=0.19.1 in /usr/local/lib/python3.7/dist-packages (from scikit-learn==0.24.2->aimodelshare) (1.4.1)\n",
            "Requirement already satisfied: threadpoolctl>=2.0.0 in /usr/local/lib/python3.7/dist-packages (from scikit-learn==0.24.2->aimodelshare) (3.0.0)\n",
            "Requirement already satisfied: fire in /usr/local/lib/python3.7/dist-packages (from keras2onnx>=1.7.0->aimodelshare) (0.4.0)\n",
            "Requirement already satisfied: protobuf in /usr/local/lib/python3.7/dist-packages (from keras2onnx>=1.7.0->aimodelshare) (3.17.3)\n",
            "Requirement already satisfied: typing-extensions>=3.6.2.1 in /usr/local/lib/python3.7/dist-packages (from onnx>=1.9.0->aimodelshare) (3.10.0.2)\n",
            "Requirement already satisfied: flatbuffers in /usr/local/lib/python3.7/dist-packages (from onnxruntime>=1.7.0->aimodelshare) (1.12)\n",
            "Requirement already satisfied: idna<3,>=2.5 in /usr/local/lib/python3.7/dist-packages (from requests!=2.18.0,>=2.14.2->docker==5.0.0->aimodelshare) (2.10)\n",
            "Requirement already satisfied: chardet<4,>=3.0.2 in /usr/local/lib/python3.7/dist-packages (from requests!=2.18.0,>=2.14.2->docker==5.0.0->aimodelshare) (3.0.4)\n",
            "Requirement already satisfied: certifi>=2017.4.17 in /usr/local/lib/python3.7/dist-packages (from requests!=2.18.0,>=2.14.2->docker==5.0.0->aimodelshare) (2021.10.8)\n",
            "Requirement already satisfied: pandas>=0.23 in /usr/local/lib/python3.7/dist-packages (from seaborn>=0.11.2->aimodelshare) (1.1.5)\n",
            "Requirement already satisfied: matplotlib>=2.2 in /usr/local/lib/python3.7/dist-packages (from seaborn>=0.11.2->aimodelshare) (3.2.2)\n",
            "Requirement already satisfied: cycler>=0.10 in /usr/local/lib/python3.7/dist-packages (from matplotlib>=2.2->seaborn>=0.11.2->aimodelshare) (0.11.0)\n",
            "Requirement already satisfied: kiwisolver>=1.0.1 in /usr/local/lib/python3.7/dist-packages (from matplotlib>=2.2->seaborn>=0.11.2->aimodelshare) (1.3.2)\n",
            "Requirement already satisfied: pyparsing!=2.0.4,!=2.1.2,!=2.1.6,>=2.0.1 in /usr/local/lib/python3.7/dist-packages (from matplotlib>=2.2->seaborn>=0.11.2->aimodelshare) (3.0.6)\n",
            "Requirement already satisfied: pytz>=2017.2 in /usr/local/lib/python3.7/dist-packages (from pandas>=0.23->seaborn>=0.11.2->aimodelshare) (2018.9)\n",
            "Requirement already satisfied: keras-preprocessing>=1.1.1 in /usr/local/lib/python3.7/dist-packages (from tensorflow>=2.5.0->aimodelshare) (1.1.2)\n",
            "Requirement already satisfied: grpcio<2.0,>=1.24.3 in /usr/local/lib/python3.7/dist-packages (from tensorflow>=2.5.0->aimodelshare) (1.42.0)\n",
            "Requirement already satisfied: termcolor>=1.1.0 in /usr/local/lib/python3.7/dist-packages (from tensorflow>=2.5.0->aimodelshare) (1.1.0)\n",
            "Requirement already satisfied: tensorflow-io-gcs-filesystem>=0.21.0 in /usr/local/lib/python3.7/dist-packages (from tensorflow>=2.5.0->aimodelshare) (0.22.0)\n",
            "Requirement already satisfied: absl-py>=0.4.0 in /usr/local/lib/python3.7/dist-packages (from tensorflow>=2.5.0->aimodelshare) (0.12.0)\n",
            "Requirement already satisfied: keras<2.8,>=2.7.0rc0 in /usr/local/lib/python3.7/dist-packages (from tensorflow>=2.5.0->aimodelshare) (2.7.0)\n",
            "Requirement already satisfied: wrapt>=1.11.0 in /usr/local/lib/python3.7/dist-packages (from tensorflow>=2.5.0->aimodelshare) (1.13.3)\n",
            "Requirement already satisfied: gast<0.5.0,>=0.2.1 in /usr/local/lib/python3.7/dist-packages (from tensorflow>=2.5.0->aimodelshare) (0.4.0)\n",
            "Requirement already satisfied: opt-einsum>=2.3.2 in /usr/local/lib/python3.7/dist-packages (from tensorflow>=2.5.0->aimodelshare) (3.3.0)\n",
            "Requirement already satisfied: google-pasta>=0.1.1 in /usr/local/lib/python3.7/dist-packages (from tensorflow>=2.5.0->aimodelshare) (0.2.0)\n",
            "Requirement already satisfied: tensorboard~=2.6 in /usr/local/lib/python3.7/dist-packages (from tensorflow>=2.5.0->aimodelshare) (2.7.0)\n",
            "Requirement already satisfied: tensorflow-estimator<2.8,~=2.7.0rc0 in /usr/local/lib/python3.7/dist-packages (from tensorflow>=2.5.0->aimodelshare) (2.7.0)\n",
            "Requirement already satisfied: h5py>=2.9.0 in /usr/local/lib/python3.7/dist-packages (from tensorflow>=2.5.0->aimodelshare) (3.1.0)\n",
            "Requirement already satisfied: libclang>=9.0.1 in /usr/local/lib/python3.7/dist-packages (from tensorflow>=2.5.0->aimodelshare) (12.0.0)\n",
            "Requirement already satisfied: cached-property in /usr/local/lib/python3.7/dist-packages (from h5py>=2.9.0->tensorflow>=2.5.0->aimodelshare) (1.5.2)\n",
            "Requirement already satisfied: google-auth<3,>=1.6.3 in /usr/local/lib/python3.7/dist-packages (from tensorboard~=2.6->tensorflow>=2.5.0->aimodelshare) (1.35.0)\n",
            "Requirement already satisfied: setuptools>=41.0.0 in /usr/local/lib/python3.7/dist-packages (from tensorboard~=2.6->tensorflow>=2.5.0->aimodelshare) (57.4.0)\n",
            "Requirement already satisfied: google-auth-oauthlib<0.5,>=0.4.1 in /usr/local/lib/python3.7/dist-packages (from tensorboard~=2.6->tensorflow>=2.5.0->aimodelshare) (0.4.6)\n",
            "Requirement already satisfied: markdown>=2.6.8 in /usr/local/lib/python3.7/dist-packages (from tensorboard~=2.6->tensorflow>=2.5.0->aimodelshare) (3.3.6)\n",
            "Requirement already satisfied: werkzeug>=0.11.15 in /usr/local/lib/python3.7/dist-packages (from tensorboard~=2.6->tensorflow>=2.5.0->aimodelshare) (1.0.1)\n",
            "Requirement already satisfied: tensorboard-plugin-wit>=1.6.0 in /usr/local/lib/python3.7/dist-packages (from tensorboard~=2.6->tensorflow>=2.5.0->aimodelshare) (1.8.0)\n",
            "Requirement already satisfied: tensorboard-data-server<0.7.0,>=0.6.0 in /usr/local/lib/python3.7/dist-packages (from tensorboard~=2.6->tensorflow>=2.5.0->aimodelshare) (0.6.1)\n",
            "Requirement already satisfied: rsa<5,>=3.1.4 in /usr/local/lib/python3.7/dist-packages (from google-auth<3,>=1.6.3->tensorboard~=2.6->tensorflow>=2.5.0->aimodelshare) (4.8)\n",
            "Requirement already satisfied: cachetools<5.0,>=2.0.0 in /usr/local/lib/python3.7/dist-packages (from google-auth<3,>=1.6.3->tensorboard~=2.6->tensorflow>=2.5.0->aimodelshare) (4.2.4)\n",
            "Requirement already satisfied: pyasn1-modules>=0.2.1 in /usr/local/lib/python3.7/dist-packages (from google-auth<3,>=1.6.3->tensorboard~=2.6->tensorflow>=2.5.0->aimodelshare) (0.2.8)\n",
            "Requirement already satisfied: requests-oauthlib>=0.7.0 in /usr/local/lib/python3.7/dist-packages (from google-auth-oauthlib<0.5,>=0.4.1->tensorboard~=2.6->tensorflow>=2.5.0->aimodelshare) (1.3.0)\n",
            "Requirement already satisfied: importlib-metadata>=4.4 in /usr/local/lib/python3.7/dist-packages (from markdown>=2.6.8->tensorboard~=2.6->tensorflow>=2.5.0->aimodelshare) (4.8.2)\n",
            "Requirement already satisfied: zipp>=0.5 in /usr/local/lib/python3.7/dist-packages (from importlib-metadata>=4.4->markdown>=2.6.8->tensorboard~=2.6->tensorflow>=2.5.0->aimodelshare) (3.6.0)\n",
            "Requirement already satisfied: pyasn1<0.5.0,>=0.4.6 in /usr/local/lib/python3.7/dist-packages (from pyasn1-modules>=0.2.1->google-auth<3,>=1.6.3->tensorboard~=2.6->tensorflow>=2.5.0->aimodelshare) (0.4.8)\n",
            "Requirement already satisfied: oauthlib>=3.0.0 in /usr/local/lib/python3.7/dist-packages (from requests-oauthlib>=0.7.0->google-auth-oauthlib<0.5,>=0.4.1->tensorboard~=2.6->tensorflow>=2.5.0->aimodelshare) (3.1.1)\n",
            "Requirement already satisfied: transformers in /usr/local/lib/python3.7/dist-packages (4.12.5)\n",
            "Requirement already satisfied: tqdm>=4.27 in /usr/local/lib/python3.7/dist-packages (from transformers) (4.62.3)\n",
            "Requirement already satisfied: sacremoses in /usr/local/lib/python3.7/dist-packages (from transformers) (0.0.46)\n",
            "Requirement already satisfied: huggingface-hub<1.0,>=0.1.0 in /usr/local/lib/python3.7/dist-packages (from transformers) (0.1.2)\n",
            "Requirement already satisfied: requests in /usr/local/lib/python3.7/dist-packages (from transformers) (2.23.0)\n",
            "Requirement already satisfied: packaging>=20.0 in /usr/local/lib/python3.7/dist-packages (from transformers) (21.3)\n",
            "Requirement already satisfied: regex!=2019.12.17 in /usr/local/lib/python3.7/dist-packages (from transformers) (2019.12.20)\n",
            "Requirement already satisfied: importlib-metadata in /usr/local/lib/python3.7/dist-packages (from transformers) (4.8.2)\n",
            "Requirement already satisfied: tokenizers<0.11,>=0.10.1 in /usr/local/lib/python3.7/dist-packages (from transformers) (0.10.3)\n",
            "Requirement already satisfied: filelock in /usr/local/lib/python3.7/dist-packages (from transformers) (3.4.0)\n",
            "Requirement already satisfied: numpy>=1.17 in /usr/local/lib/python3.7/dist-packages (from transformers) (1.19.5)\n",
            "Requirement already satisfied: pyyaml>=5.1 in /usr/local/lib/python3.7/dist-packages (from transformers) (6.0)\n",
            "Requirement already satisfied: typing-extensions>=3.7.4.3 in /usr/local/lib/python3.7/dist-packages (from huggingface-hub<1.0,>=0.1.0->transformers) (3.10.0.2)\n",
            "Requirement already satisfied: pyparsing!=3.0.5,>=2.0.2 in /usr/local/lib/python3.7/dist-packages (from packaging>=20.0->transformers) (3.0.6)\n",
            "Requirement already satisfied: zipp>=0.5 in /usr/local/lib/python3.7/dist-packages (from importlib-metadata->transformers) (3.6.0)\n",
            "Requirement already satisfied: urllib3!=1.25.0,!=1.25.1,<1.26,>=1.21.1 in /usr/local/lib/python3.7/dist-packages (from requests->transformers) (1.25.11)\n",
            "Requirement already satisfied: idna<3,>=2.5 in /usr/local/lib/python3.7/dist-packages (from requests->transformers) (2.10)\n",
            "Requirement already satisfied: certifi>=2017.4.17 in /usr/local/lib/python3.7/dist-packages (from requests->transformers) (2021.10.8)\n",
            "Requirement already satisfied: chardet<4,>=3.0.2 in /usr/local/lib/python3.7/dist-packages (from requests->transformers) (3.0.4)\n",
            "Requirement already satisfied: click in /usr/local/lib/python3.7/dist-packages (from sacremoses->transformers) (7.1.2)\n",
            "Requirement already satisfied: six in /usr/local/lib/python3.7/dist-packages (from sacremoses->transformers) (1.15.0)\n",
            "Requirement already satisfied: joblib in /usr/local/lib/python3.7/dist-packages (from sacremoses->transformers) (1.1.0)\n"
          ]
        }
      ]
    },
    {
      "cell_type": "code",
      "metadata": {
        "colab": {
          "base_uri": "https://localhost:8080/"
        },
        "id": "cRu2J5iQCklZ",
        "outputId": "bddc596f-fdf5-4d2b-8ebd-5232ee3ea0ad"
      },
      "source": [
        "# Get competition data\n",
        "from aimodelshare import download_data\n",
        "import aimodelshare as ai\n",
        "download_data('public.ecr.aws/y2e2a1d6/covid_tweet_competition_data-repository:latest') "
      ],
      "execution_count": null,
      "outputs": [
        {
          "output_type": "stream",
          "name": "stdout",
          "text": [
            "Downloading [======================================>          ]\n",
            "\n",
            "Data downloaded successfully.\n"
          ]
        }
      ]
    },
    {
      "cell_type": "markdown",
      "metadata": {
        "id": "XRwBbygLNX1C"
      },
      "source": [
        "## Splitting"
      ]
    },
    {
      "cell_type": "code",
      "metadata": {
        "colab": {
          "base_uri": "https://localhost:8080/",
          "height": 423
        },
        "id": "4hN8cBZfCddz",
        "outputId": "badcd915-abaa-47ba-8c4d-690e096f1c93"
      },
      "source": [
        "# Separate data into X_train, y_train, and X_test\n",
        "import pandas as pd\n",
        "import numpy as np\n",
        "\n",
        "X_train=pd.read_csv(\"covid_tweet_competition_data/X_train.csv\", squeeze=True)\n",
        "X_test=pd.read_csv(\"covid_tweet_competition_data/X_test.csv\", squeeze=True)\n",
        "\n",
        "y_train_labels=pd.read_csv(\"covid_tweet_competition_data/y_train_labels.csv\", squeeze=True)\n",
        "\n",
        "# OH encode y data\n",
        "y_train = pd.get_dummies(y_train_labels)"
      ],
      "execution_count": null,
      "outputs": [
        {
          "output_type": "execute_result",
          "data": {
            "text/html": [
              "<div>\n",
              "<style scoped>\n",
              "    .dataframe tbody tr th:only-of-type {\n",
              "        vertical-align: middle;\n",
              "    }\n",
              "\n",
              "    .dataframe tbody tr th {\n",
              "        vertical-align: top;\n",
              "    }\n",
              "\n",
              "    .dataframe thead th {\n",
              "        text-align: right;\n",
              "    }\n",
              "</style>\n",
              "<table border=\"1\" class=\"dataframe\">\n",
              "  <thead>\n",
              "    <tr style=\"text-align: right;\">\n",
              "      <th></th>\n",
              "      <th>fake</th>\n",
              "      <th>real</th>\n",
              "    </tr>\n",
              "  </thead>\n",
              "  <tbody>\n",
              "    <tr>\n",
              "      <th>0</th>\n",
              "      <td>1</td>\n",
              "      <td>0</td>\n",
              "    </tr>\n",
              "    <tr>\n",
              "      <th>1</th>\n",
              "      <td>1</td>\n",
              "      <td>0</td>\n",
              "    </tr>\n",
              "    <tr>\n",
              "      <th>2</th>\n",
              "      <td>0</td>\n",
              "      <td>1</td>\n",
              "    </tr>\n",
              "    <tr>\n",
              "      <th>3</th>\n",
              "      <td>1</td>\n",
              "      <td>0</td>\n",
              "    </tr>\n",
              "    <tr>\n",
              "      <th>4</th>\n",
              "      <td>0</td>\n",
              "      <td>1</td>\n",
              "    </tr>\n",
              "    <tr>\n",
              "      <th>...</th>\n",
              "      <td>...</td>\n",
              "      <td>...</td>\n",
              "    </tr>\n",
              "    <tr>\n",
              "      <th>6500</th>\n",
              "      <td>0</td>\n",
              "      <td>1</td>\n",
              "    </tr>\n",
              "    <tr>\n",
              "      <th>6501</th>\n",
              "      <td>0</td>\n",
              "      <td>1</td>\n",
              "    </tr>\n",
              "    <tr>\n",
              "      <th>6502</th>\n",
              "      <td>0</td>\n",
              "      <td>1</td>\n",
              "    </tr>\n",
              "    <tr>\n",
              "      <th>6503</th>\n",
              "      <td>0</td>\n",
              "      <td>1</td>\n",
              "    </tr>\n",
              "    <tr>\n",
              "      <th>6504</th>\n",
              "      <td>0</td>\n",
              "      <td>1</td>\n",
              "    </tr>\n",
              "  </tbody>\n",
              "</table>\n",
              "<p>6505 rows × 2 columns</p>\n",
              "</div>"
            ],
            "text/plain": [
              "      fake  real\n",
              "0        1     0\n",
              "1        1     0\n",
              "2        0     1\n",
              "3        1     0\n",
              "4        0     1\n",
              "...    ...   ...\n",
              "6500     0     1\n",
              "6501     0     1\n",
              "6502     0     1\n",
              "6503     0     1\n",
              "6504     0     1\n",
              "\n",
              "[6505 rows x 2 columns]"
            ]
          },
          "metadata": {},
          "execution_count": 77
        }
      ]
    },
    {
      "cell_type": "markdown",
      "metadata": {
        "id": "XReesVuRNa3h"
      },
      "source": [
        "# EDA"
      ]
    },
    {
      "cell_type": "code",
      "metadata": {
        "colab": {
          "base_uri": "https://localhost:8080/"
        },
        "id": "c9Mc8OgvKTlv",
        "outputId": "73c09b86-308b-4430-ae12-a4d03ebd2637"
      },
      "source": [
        "#Assess structure of the training data\n",
        "X_train.shape, y_train.shape"
      ],
      "execution_count": null,
      "outputs": [
        {
          "output_type": "execute_result",
          "data": {
            "text/plain": [
              "((6505,), (6505, 2))"
            ]
          },
          "metadata": {},
          "execution_count": 8
        }
      ]
    },
    {
      "cell_type": "code",
      "metadata": {
        "colab": {
          "base_uri": "https://localhost:8080/",
          "height": 540
        },
        "id": "brxUDP-ZMorZ",
        "outputId": "62bc04cd-bf2a-46b8-bcfd-12af514687d4"
      },
      "source": [
        "from matplotlib import pyplot as plt\n",
        "\n",
        "df = pd.DataFrame({\"Tweet\":X_train, \"Label_real\":y_train['real']})\n",
        "fig,(ax1,ax2)=plt.subplots(1,2,figsize=(12,8))\n",
        "text_len=df[df['Label_real']==1]['Tweet'].str.len()\n",
        "ax1.hist(text_len,color='red')\n",
        "ax1.set_title('Real text')\n",
        "text_len=df[df['Label_real']==0]['Tweet'].str.len()\n",
        "ax2.hist(text_len,color='green')\n",
        "ax2.set_title('Fake text')\n",
        "fig.suptitle('Characters in texts')\n",
        "plt.show()"
      ],
      "execution_count": null,
      "outputs": [
        {
          "data": {
            "image/png": "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\n",
            "text/plain": [
              "<Figure size 864x576 with 2 Axes>"
            ]
          },
          "metadata": {},
          "output_type": "display_data"
        }
      ]
    },
    {
      "cell_type": "code",
      "metadata": {
        "colab": {
          "base_uri": "https://localhost:8080/"
        },
        "id": "QZruzBzEQBE-",
        "outputId": "0cde430f-a01d-41f4-9cf3-e989017f9687"
      },
      "source": [
        "# A lot of fake tweets are very long but real tweets seem to be shorter\n",
        "print(sum(df[df['Label_real']==0]['Tweet'].str.len()>400))\n",
        "print(sum(df[df['Label_real']==0]['Tweet'].str.len()>1000))\n",
        "print(sum(df[df['Label_real']==0]['Tweet'].str.len()>2500))\n",
        "print(sum(df[df['Label_real']==1]['Tweet'].str.len()>400))\n",
        "print(sum(df[df['Label_real']==1]['Tweet'].str.len()>1000))\n",
        "print(sum(df[df['Label_real']==1]['Tweet'].str.len()>2500))"
      ],
      "execution_count": null,
      "outputs": [
        {
          "name": "stdout",
          "output_type": "stream",
          "text": [
            "24\n",
            "5\n",
            "2\n",
            "0\n",
            "0\n",
            "0\n"
          ]
        }
      ]
    },
    {
      "cell_type": "code",
      "metadata": {
        "colab": {
          "base_uri": "https://localhost:8080/"
        },
        "id": "XrHxfc3AWDEq",
        "outputId": "35e13480-dfee-4540-9ea7-bb993fa6fad0"
      },
      "source": [
        "# A lot of fake tweets are very long but real tweets seem to be shorter\n",
        "print(sum(df[df['Label_real']==1]['Tweet'].str.len()<10))\n",
        "print(sum(df[df['Label_real']==0]['Tweet'].str.len()<10))"
      ],
      "execution_count": null,
      "outputs": [
        {
          "name": "stdout",
          "output_type": "stream",
          "text": [
            "0\n",
            "0\n"
          ]
        }
      ]
    },
    {
      "cell_type": "markdown",
      "metadata": {
        "id": "7wwj5Qf5NeMS"
      },
      "source": [
        "# Packages for building model"
      ]
    },
    {
      "cell_type": "code",
      "metadata": {
        "id": "atZnSS4HCeq-"
      },
      "source": [
        "# Import libraries for the model training\n",
        "import tensorflow as tf\n",
        "import re, string, unicodedata\n",
        "from tensorflow.keras.preprocessing.text import Tokenizer\n",
        "from tensorflow.keras.preprocessing.sequence import pad_sequences\n",
        "from tensorflow.keras.models import Sequential\n",
        "from tensorflow.keras.layers import Dense, Conv1D, MaxPool1D, Dropout, Input\n",
        "from tensorflow.keras.optimizers import Adam\n",
        "from sklearn.metrics import classification_report, accuracy_score, confusion_matrix\n",
        "\n",
        "#BERT\n",
        "import transformers\n",
        "from transformers import TFBertModel\n",
        "from tensorflow.keras.models import Model\n",
        "from tensorflow.keras.callbacks import ModelCheckpoint\n",
        "from tqdm.notebook import tqdm\n",
        "from tokenizers import BertWordPieceTokenizer\n",
        "from transformers import BertTokenizer"
      ],
      "execution_count": null,
      "outputs": []
    },
    {
      "cell_type": "markdown",
      "metadata": {
        "id": "app6I5ceAbow"
      },
      "source": [
        "# Mount Drive"
      ]
    },
    {
      "cell_type": "code",
      "metadata": {
        "colab": {
          "base_uri": "https://localhost:8080/"
        },
        "id": "8e61QylXCe69",
        "outputId": "93bf864d-f882-4a4a-c9f7-c7230a0aafd3"
      },
      "source": [
        "from google.colab import drive\n",
        "drive.mount(\"/content/drive\")"
      ],
      "execution_count": null,
      "outputs": [
        {
          "output_type": "stream",
          "name": "stdout",
          "text": [
            "Mounted at /content/drive\n"
          ]
        }
      ]
    },
    {
      "cell_type": "markdown",
      "metadata": {
        "id": "cFcEPQR_coO7"
      },
      "source": [
        "# **BERT** Model\n",
        "Bidirectional Encoder Representations from Transformers (BERT) is a transformer-based machine learning technique for natural language processing (NLP) pre-training developed by Google. BERT was created and published in 2018 by Jacob Devlin and his colleagues from Google\n",
        "\n",
        "References: https://www.kaggle.com/andreshg/nlp-glove-bert-tf-idf-lstm-explained"
      ]
    },
    {
      "cell_type": "markdown",
      "metadata": {
        "id": "2ecfXEUeH5Au"
      },
      "source": [
        "# Initialize BERT Tokenizer"
      ]
    },
    {
      "cell_type": "code",
      "metadata": {
        "id": "n8dXRQmdbBav",
        "colab": {
          "base_uri": "https://localhost:8080/",
          "height": 145,
          "referenced_widgets": [
            "09aec142c46c4c5b97cf94624ad403ed",
            "a67463ba5ff440c4a05dabefe8351589",
            "894cc00a1e344995b77c56972a94f3dc",
            "9ca5b1f33df94141896c699a7cd18075",
            "e4f71ca6894044aabf69325e72d53e3f",
            "3e81c20496d145fca4aeb82a8bc6f1ac",
            "36f4389bafc64de398be76698ebcaefe",
            "4cc12d2642634b20948beabedd02f26b",
            "9ae40b301d0441f8bde84ab6836b2584",
            "93960591d2ab4861b24c48c7c63a5ea9",
            "c1132c67fdec45b796cbbe03302ab9f2",
            "f362c9c0275143c9a6457b2cf6f3ded1",
            "adb5da8a63244d378c05189cd56ca6e8",
            "0382f753ca41404bad9dc12ff065a189",
            "c86b5c7f6bea46a0bdbebfbe50a36c74",
            "982094c94bec4740b2a9ce2249f87e86",
            "419c0e023b1444eebda675c8debc7c76",
            "0cc7ca67057d4fe5a380386a2bda4013",
            "7cad35c0c27e491ca1afad54f89df543",
            "104b1514a618427d9629353e4db4a798",
            "bd3180a790504756877b533617a361e4",
            "1c3160f34b65400aa489b9827e84ccd3",
            "d30fa0f1e4394273b44c5172fa6fff37",
            "5a62c9ed8ae44de29de7de6a3e91fb66",
            "8d946c1acdf344e2991de7a6bd0b0255",
            "58d9e15bb9b34be68c0e12cc29313a9a",
            "7f2d71d9406e4490a7d1d3a3e1f101cb",
            "10da977e3b1c42c0b22945b857abd9e9",
            "a3d969cf76dc4a26a86e2b602c4d4ef5",
            "c2a307c0c35c446d89d92eb23803a9da",
            "120deb34d8a04f82a1908a5a41f3206b",
            "49d464ef16eb4d0c80ff3ec837cf61f2",
            "ddaa5815b9e541a696358f8e24cee348",
            "4dd5edc088e846189daf819a00596372",
            "fbac38fc4a7c45fe9b295c38c3f2aee6",
            "4cd4f33af0bd456fb652c2587a40b113",
            "fa70061c048c47059f0bb10da1aabea2",
            "231a9cc801ad49698d2a3021bb4c8568",
            "0e951585e30b4ce6ad689650d321f189",
            "65e1c8d65522487ca98bef3f14fb790d",
            "2f4605dd95f44fcead63f86ef4f28e1c",
            "17b6abb2c6964cfe8b4004c788e4cba4",
            "3239652ec85e4442bfe1d26b0d197323",
            "3b5906ce545a49af865f7fc9f46dd74e"
          ]
        },
        "outputId": "fa0a35a1-3816-4f65-fed0-d0ba841311ff"
      },
      "source": [
        "tokenizer = BertTokenizer.from_pretrained('bert-large-uncased')\n",
        "\n",
        "def bert_encode(data, maximum_length) :\n",
        "    input_ids = []\n",
        "    attention_masks = []\n",
        "\n",
        "    for text in data:\n",
        "        encoded = tokenizer.encode_plus(\n",
        "            text, \n",
        "            add_special_tokens=True,\n",
        "            max_length=maximum_length,\n",
        "            pad_to_max_length=True,\n",
        "\n",
        "            return_attention_mask=True,\n",
        "        )\n",
        "        input_ids.append(encoded['input_ids'])\n",
        "        attention_masks.append(encoded['attention_mask'])\n",
        "        \n",
        "    return np.array(input_ids),np.array(attention_masks)"
      ],
      "execution_count": null,
      "outputs": [
        {
          "output_type": "display_data",
          "data": {
            "application/vnd.jupyter.widget-view+json": {
              "model_id": "09aec142c46c4c5b97cf94624ad403ed",
              "version_minor": 0,
              "version_major": 2
            },
            "text/plain": [
              "Downloading:   0%|          | 0.00/226k [00:00<?, ?B/s]"
            ]
          },
          "metadata": {}
        },
        {
          "output_type": "display_data",
          "data": {
            "application/vnd.jupyter.widget-view+json": {
              "model_id": "f362c9c0275143c9a6457b2cf6f3ded1",
              "version_minor": 0,
              "version_major": 2
            },
            "text/plain": [
              "Downloading:   0%|          | 0.00/28.0 [00:00<?, ?B/s]"
            ]
          },
          "metadata": {}
        },
        {
          "output_type": "display_data",
          "data": {
            "application/vnd.jupyter.widget-view+json": {
              "model_id": "d30fa0f1e4394273b44c5172fa6fff37",
              "version_minor": 0,
              "version_major": 2
            },
            "text/plain": [
              "Downloading:   0%|          | 0.00/455k [00:00<?, ?B/s]"
            ]
          },
          "metadata": {}
        },
        {
          "output_type": "display_data",
          "data": {
            "application/vnd.jupyter.widget-view+json": {
              "model_id": "4dd5edc088e846189daf819a00596372",
              "version_minor": 0,
              "version_major": 2
            },
            "text/plain": [
              "Downloading:   0%|          | 0.00/571 [00:00<?, ?B/s]"
            ]
          },
          "metadata": {}
        }
      ]
    },
    {
      "cell_type": "markdown",
      "metadata": {
        "id": "Tu2YuqPAH8q6"
      },
      "source": [
        "# Define BERT Model Builder"
      ]
    },
    {
      "cell_type": "code",
      "metadata": {
        "id": "4f6AH3TWbPV4"
      },
      "source": [
        "def create_model(bert_model):\n",
        "    \n",
        "    input_ids = tf.keras.Input(shape=(310,),dtype='int32')\n",
        "    attention_masks = tf.keras.Input(shape=(310,),dtype='int32')\n",
        "\n",
        "    output = bert_model([input_ids,attention_masks])\n",
        "    output = output[1]\n",
        "    output = tf.keras.layers.Dense(64,activation='relu')(output)\n",
        "    output = tf.keras.layers.Dropout(0.2)(output)\n",
        "    output = tf.keras.layers.Dense(1,activation='sigmoid')(output)\n",
        "    \n",
        "    model = tf.keras.models.Model(inputs = [input_ids,attention_masks],outputs = output)\n",
        "    model.compile(Adam(lr=1e-5), loss='binary_crossentropy', metrics=['accuracy'])\n",
        "    return model"
      ],
      "execution_count": null,
      "outputs": []
    },
    {
      "cell_type": "code",
      "metadata": {
        "colab": {
          "base_uri": "https://localhost:8080/"
        },
        "id": "JbHW5cA7bRwv",
        "outputId": "9577e686-3014-4374-ccd9-311a3b5250ed"
      },
      "source": [
        "#load pre-trained uncased BERT\n",
        "bert_model = TFBertModel.from_pretrained('bert-base-uncased')"
      ],
      "execution_count": null,
      "outputs": [
        {
          "output_type": "stream",
          "name": "stderr",
          "text": [
            "Some layers from the model checkpoint at bert-base-uncased were not used when initializing TFBertModel: ['mlm___cls', 'nsp___cls']\n",
            "- This IS expected if you are initializing TFBertModel from the checkpoint of a model trained on another task or with another architecture (e.g. initializing a BertForSequenceClassification model from a BertForPreTraining model).\n",
            "- This IS NOT expected if you are initializing TFBertModel from the checkpoint of a model that you expect to be exactly identical (initializing a BertForSequenceClassification model from a BertForSequenceClassification model).\n",
            "All the layers of TFBertModel were initialized from the model checkpoint at bert-base-uncased.\n",
            "If your task is similar to the task the model of the checkpoint was trained on, you can already use TFBertModel for predictions without further training.\n"
          ]
        }
      ]
    },
    {
      "cell_type": "markdown",
      "metadata": {
        "id": "AEYTuSAjH00Z"
      },
      "source": [
        "# Create (Instantiate) BERT Model"
      ]
    },
    {
      "cell_type": "code",
      "metadata": {
        "colab": {
          "base_uri": "https://localhost:8080/"
        },
        "id": "Ki2EoqRobWRk",
        "outputId": "171b3ca1-5fed-44d5-8b4e-f3b293cb3679"
      },
      "source": [
        "model_BERT_loss1e5_epoch5 = create_model(bert_model)\n",
        "model_BERT_loss1e5_epoch5.summary()"
      ],
      "execution_count": null,
      "outputs": [
        {
          "output_type": "stream",
          "name": "stdout",
          "text": [
            "Model: \"model_9\"\n",
            "__________________________________________________________________________________________________\n",
            " Layer (type)                   Output Shape         Param #     Connected to                     \n",
            "==================================================================================================\n",
            " input_19 (InputLayer)          [(None, 310)]        0           []                               \n",
            "                                                                                                  \n",
            " input_20 (InputLayer)          [(None, 310)]        0           []                               \n",
            "                                                                                                  \n",
            " tf_bert_model_9 (TFBertModel)  TFBaseModelOutputWi  109482240   ['input_19[0][0]',               \n",
            "                                thPoolingAndCrossAt               'input_20[0][0]']               \n",
            "                                tentions(last_hidde                                               \n",
            "                                n_state=(None, 310,                                               \n",
            "                                 768),                                                            \n",
            "                                 pooler_output=(Non                                               \n",
            "                                e, 768),                                                          \n",
            "                                 past_key_values=No                                               \n",
            "                                ne, hidden_states=N                                               \n",
            "                                one, attentions=Non                                               \n",
            "                                e, cross_attentions                                               \n",
            "                                =None)                                                            \n",
            "                                                                                                  \n",
            " dense_18 (Dense)               (None, 64)           49216       ['tf_bert_model_9[0][1]']        \n",
            "                                                                                                  \n",
            " dropout_379 (Dropout)          (None, 64)           0           ['dense_18[0][0]']               \n",
            "                                                                                                  \n",
            " dense_19 (Dense)               (None, 1)            65          ['dropout_379[0][0]']            \n",
            "                                                                                                  \n",
            "==================================================================================================\n",
            "Total params: 109,531,521\n",
            "Trainable params: 109,531,521\n",
            "Non-trainable params: 0\n",
            "__________________________________________________________________________________________________\n"
          ]
        },
        {
          "output_type": "stream",
          "name": "stderr",
          "text": [
            "/usr/local/lib/python3.7/dist-packages/keras/optimizer_v2/adam.py:105: UserWarning: The `lr` argument is deprecated, use `learning_rate` instead.\n",
            "  super(Adam, self).__init__(name, **kwargs)\n"
          ]
        }
      ]
    },
    {
      "cell_type": "markdown",
      "metadata": {
        "id": "MUPE6KZMIDeI"
      },
      "source": [
        "# Encode X_train in BERT format"
      ]
    },
    {
      "cell_type": "code",
      "metadata": {
        "colab": {
          "base_uri": "https://localhost:8080/"
        },
        "id": "YVKnv91bb1Vg",
        "outputId": "3f31de9c-516d-465a-caf4-fb3f16263d4f"
      },
      "source": [
        "train_input_ids, train_attention_masks = bert_encode(X_train, 310)"
      ],
      "execution_count": null,
      "outputs": [
        {
          "output_type": "stream",
          "name": "stderr",
          "text": [
            "/usr/local/lib/python3.7/dist-packages/transformers/tokenization_utils_base.py:2218: FutureWarning: The `pad_to_max_length` argument is deprecated and will be removed in a future version, use `padding=True` or `padding='longest'` to pad to the longest sequence in the batch, or use `padding='max_length'` to pad to a max length. In this case, you can give a specific length with `max_length` (e.g. `max_length=45`) or leave max_length to None to pad to the maximal input size of the model (e.g. 512 for Bert).\n",
            "  FutureWarning,\n"
          ]
        }
      ]
    },
    {
      "cell_type": "markdown",
      "metadata": {
        "id": "_K7P-vhrHxRA"
      },
      "source": [
        "# Fit BERT Model, 5 epochs, batch size 16, learning rate 1e-5"
      ]
    },
    {
      "cell_type": "code",
      "metadata": {
        "colab": {
          "base_uri": "https://localhost:8080/"
        },
        "id": "3XJ4Do-fbj6X",
        "outputId": "a3308449-85fe-46f8-9635-6aca89c7decf"
      },
      "source": [
        "history = model_BERT_loss1e5_epoch5.fit(\n",
        "    [train_input_ids, train_attention_masks],\n",
        "    y_train['real'],\n",
        "    epochs=5,\n",
        "    batch_size=16\n",
        ")"
      ],
      "execution_count": null,
      "outputs": [
        {
          "output_type": "stream",
          "name": "stdout",
          "text": [
            "Epoch 1/5\n",
            "407/407 [==============================] - 272s 633ms/step - loss: 0.2333 - accuracy: 0.9062\n",
            "Epoch 2/5\n",
            "407/407 [==============================] - 257s 633ms/step - loss: 0.0657 - accuracy: 0.9797\n",
            "Epoch 3/5\n",
            "407/407 [==============================] - 257s 632ms/step - loss: 0.0366 - accuracy: 0.9888\n",
            "Epoch 4/5\n",
            "407/407 [==============================] - 257s 632ms/step - loss: 0.0189 - accuracy: 0.9943\n",
            "Epoch 5/5\n",
            "407/407 [==============================] - 257s 632ms/step - loss: 0.0120 - accuracy: 0.9965\n"
          ]
        }
      ]
    },
    {
      "cell_type": "markdown",
      "metadata": {
        "id": "XNyGacNNIIoH"
      },
      "source": [
        "# Generate BERT Predictions"
      ]
    },
    {
      "cell_type": "code",
      "metadata": {
        "colab": {
          "base_uri": "https://localhost:8080/"
        },
        "id": "k1mUKilD93NX",
        "outputId": "7372c5e3-3df2-468f-a6da-11150cbb1bd5"
      },
      "source": [
        "test_input_ids, test_attention_masks = bert_encode(X_test, 310)"
      ],
      "execution_count": null,
      "outputs": [
        {
          "output_type": "stream",
          "name": "stderr",
          "text": [
            "/usr/local/lib/python3.7/dist-packages/transformers/tokenization_utils_base.py:2218: FutureWarning: The `pad_to_max_length` argument is deprecated and will be removed in a future version, use `padding=True` or `padding='longest'` to pad to the longest sequence in the batch, or use `padding='max_length'` to pad to a max length. In this case, you can give a specific length with `max_length` (e.g. `max_length=45`) or leave max_length to None to pad to the maximal input size of the model (e.g. 512 for Bert).\n",
            "  FutureWarning,\n"
          ]
        }
      ]
    },
    {
      "cell_type": "code",
      "metadata": {
        "id": "ZiSQhvAoAwf4"
      },
      "source": [
        "predictions = model_BERT_loss1e5_epoch5.predict((test_input_ids, test_attention_masks))"
      ],
      "execution_count": null,
      "outputs": []
    },
    {
      "cell_type": "markdown",
      "metadata": {
        "id": "9QotbqNYIMYB"
      },
      "source": [
        "# Export BERT Predictions"
      ]
    },
    {
      "cell_type": "code",
      "metadata": {
        "id": "Atp0hk0LBn8X"
      },
      "source": [
        "prediction_labels = [y_train.columns[1] if x > 0.5 else y_train.columns[0] for x in predictions]\n",
        "prediction_labels_df = pd.DataFrame({\"labels\":prediction_labels,\"tweet\":X_test})"
      ],
      "execution_count": null,
      "outputs": []
    },
    {
      "cell_type": "code",
      "metadata": {
        "colab": {
          "base_uri": "https://localhost:8080/"
        },
        "id": "c3uUAOncpnc5",
        "outputId": "231c8c9e-5a63-4b94-da71-8cfe58e47d7c"
      },
      "source": [
        "from google.colab import drive\n",
        "drive.mount(\"/content/drive\")\n",
        "prediction_labels_df.to_csv(\"/content/drive/MyDrive/Colab Notebooks/bert_preds_loss1e5_310f2.csv\")"
      ],
      "execution_count": null,
      "outputs": [
        {
          "output_type": "stream",
          "name": "stdout",
          "text": [
            "Drive already mounted at /content/drive; to attempt to forcibly remount, call drive.mount(\"/content/drive\", force_remount=True).\n"
          ]
        }
      ]
    },
    {
      "cell_type": "markdown",
      "metadata": {
        "id": "-8AS0TA2fSdC"
      },
      "source": [
        "# Save Model and Weights"
      ]
    },
    {
      "cell_type": "code",
      "metadata": {
        "colab": {
          "base_uri": "https://localhost:8080/"
        },
        "id": "fk8GN0U1HIo8",
        "outputId": "31b8f925-9fa0-4b0a-f9d0-4588d58fbfce"
      },
      "source": [
        "! pip install -U tf2onnx"
      ],
      "execution_count": null,
      "outputs": [
        {
          "output_type": "stream",
          "name": "stdout",
          "text": [
            "Requirement already satisfied: tf2onnx in /usr/local/lib/python3.7/dist-packages (1.9.3)\n",
            "Requirement already satisfied: requests in /usr/local/lib/python3.7/dist-packages (from tf2onnx) (2.23.0)\n",
            "Requirement already satisfied: onnx>=1.4.1 in /usr/local/lib/python3.7/dist-packages (from tf2onnx) (1.10.2)\n",
            "Requirement already satisfied: flatbuffers~=1.12 in /usr/local/lib/python3.7/dist-packages (from tf2onnx) (1.12)\n",
            "Requirement already satisfied: numpy>=1.14.1 in /usr/local/lib/python3.7/dist-packages (from tf2onnx) (1.19.5)\n",
            "Requirement already satisfied: six in /usr/local/lib/python3.7/dist-packages (from tf2onnx) (1.15.0)\n",
            "Requirement already satisfied: typing-extensions>=3.6.2.1 in /usr/local/lib/python3.7/dist-packages (from onnx>=1.4.1->tf2onnx) (3.10.0.2)\n",
            "Requirement already satisfied: protobuf in /usr/local/lib/python3.7/dist-packages (from onnx>=1.4.1->tf2onnx) (3.17.3)\n",
            "Requirement already satisfied: idna<3,>=2.5 in /usr/local/lib/python3.7/dist-packages (from requests->tf2onnx) (2.10)\n",
            "Requirement already satisfied: chardet<4,>=3.0.2 in /usr/local/lib/python3.7/dist-packages (from requests->tf2onnx) (3.0.4)\n",
            "Requirement already satisfied: certifi>=2017.4.17 in /usr/local/lib/python3.7/dist-packages (from requests->tf2onnx) (2021.10.8)\n",
            "Requirement already satisfied: urllib3!=1.25.0,!=1.25.1,<1.26,>=1.21.1 in /usr/local/lib/python3.7/dist-packages (from requests->tf2onnx) (1.25.11)\n"
          ]
        }
      ]
    },
    {
      "cell_type": "code",
      "metadata": {
        "id": "JvnD7Ow2IsOW"
      },
      "source": [
        "import tf2onnx\n",
        "import onnx\n",
        "\n",
        "model_proto, external_tensor_storage = tf2onnx.convert.from_keras(model_BERT_loss1e5_epoch5, output_path)\n",
        "onnx.save(model_proto, \"/content/drive/MyDrive/Colab Notebooks/final_model.onnx\")\n",
        "model_BERT_loss1e5_epoch5.save_weights(\"/content/drive/MyDrive/Colab Notebooks/bert_weights\")"
      ],
      "execution_count": null,
      "outputs": []
    },
    {
      "cell_type": "markdown",
      "metadata": {
        "id": "wyu_elubIq2h"
      },
      "source": [
        ""
      ]
    }
  ]
}
